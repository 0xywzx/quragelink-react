{
 "cells": [
  {
   "cell_type": "code",
   "execution_count": 1,
   "metadata": {},
   "outputs": [
    {
     "name": "stdout",
     "output_type": "stream",
     "text": [
      "Requirement already satisfied: numpy in /Users/yosuke.aramaki/anaconda3/lib/python3.7/site-packages (1.16.2)\r\n"
     ]
    }
   ],
   "source": [
    "!pip install numpy"
   ]
  },
  {
   "cell_type": "code",
   "execution_count": 2,
   "metadata": {},
   "outputs": [
    {
     "name": "stdout",
     "output_type": "stream",
     "text": [
      "Requirement already satisfied: pandas in /Users/yosuke.aramaki/anaconda3/lib/python3.7/site-packages (0.24.2)\r\n",
      "Requirement already satisfied: numpy>=1.12.0 in /Users/yosuke.aramaki/anaconda3/lib/python3.7/site-packages (from pandas) (1.16.2)\r\n",
      "Requirement already satisfied: python-dateutil>=2.5.0 in /Users/yosuke.aramaki/anaconda3/lib/python3.7/site-packages (from pandas) (2.8.0)\r\n",
      "Requirement already satisfied: pytz>=2011k in /Users/yosuke.aramaki/anaconda3/lib/python3.7/site-packages (from pandas) (2018.9)\r\n",
      "Requirement already satisfied: six>=1.5 in /Users/yosuke.aramaki/anaconda3/lib/python3.7/site-packages (from python-dateutil>=2.5.0->pandas) (1.12.0)\r\n"
     ]
    }
   ],
   "source": [
    "!pip install pandas"
   ]
  },
  {
   "cell_type": "code",
   "execution_count": 3,
   "metadata": {},
   "outputs": [
    {
     "name": "stdout",
     "output_type": "stream",
     "text": [
      "   名前     役割   身長\n",
      "0  田中   営業部長  178\n",
      "1  山田    広報部  173\n",
      "2  高橋  技術責任者  169\n",
      "名前    object\n",
      "役割    object\n",
      "身長     int64\n",
      "dtype: object\n",
      "Index(['名前', '役割', '身長'], dtype='object')\n"
     ]
    }
   ],
   "source": [
    "import pandas as pd\n",
    "df = pd.DataFrame({\n",
    "    '名前' :['田中', '山田', '高橋'],\n",
    "    '役割' : ['営業部長', '広報部', '技術責任者'],\n",
    "    '身長' : [178, 173, 169]\n",
    "    })\n",
    "print(df)\n",
    "print(df.dtypes)\n",
    "\n",
    "print(df.columns)"
   ]
  },
  {
   "cell_type": "code",
   "execution_count": 7,
   "metadata": {},
   "outputs": [
    {
     "name": "stdout",
     "output_type": "stream",
     "text": [
      "          0         1         2\n",
      "0 -0.098363 -2.495118 -0.467297\n",
      "1 -0.051607 -0.113137 -1.901520\n",
      "2  0.444944 -0.116055 -0.990065\n",
      "3  0.152686  1.034933 -0.929387\n",
      "4  0.431240 -0.325835 -1.087354\n"
     ]
    }
   ],
   "source": [
    "import pandas as pd\n",
    "import numpy as np\n",
    "df = pd.DataFrame(np.random.randn(5,3))\n",
    "print(df)"
   ]
  },
  {
   "cell_type": "code",
   "execution_count": 20,
   "metadata": {},
   "outputs": [
    {
     "name": "stdout",
     "output_type": "stream",
     "text": [
      "    1列  2列  3列\n",
      "2行  25  50  75\n",
      "3行  50  70  90\n"
     ]
    }
   ],
   "source": [
    "import pandas as pd\n",
    "df = pd.DataFrame([[10, 20, 30], [25, 50, 75], [50, 70, 90]], index=[\"1行\", \"2行\", \"3行\"], columns=[\"1列\", \"2列\", \"3列\"])\n",
    "\n",
    "print(df.iloc[1:3])"
   ]
  },
  {
   "cell_type": "code",
   "execution_count": 21,
   "metadata": {},
   "outputs": [
    {
     "data": {
      "text/html": [
       "<div>\n",
       "<style scoped>\n",
       "    .dataframe tbody tr th:only-of-type {\n",
       "        vertical-align: middle;\n",
       "    }\n",
       "\n",
       "    .dataframe tbody tr th {\n",
       "        vertical-align: top;\n",
       "    }\n",
       "\n",
       "    .dataframe thead th {\n",
       "        text-align: right;\n",
       "    }\n",
       "</style>\n",
       "<table border=\"1\" class=\"dataframe\">\n",
       "  <thead>\n",
       "    <tr style=\"text-align: right;\">\n",
       "      <th></th>\n",
       "      <th>A</th>\n",
       "      <th>B</th>\n",
       "      <th>C</th>\n",
       "      <th>D</th>\n",
       "    </tr>\n",
       "  </thead>\n",
       "  <tbody>\n",
       "    <tr>\n",
       "      <th>1行</th>\n",
       "      <td>10</td>\n",
       "      <td>20</td>\n",
       "      <td>30</td>\n",
       "      <td>30</td>\n",
       "    </tr>\n",
       "  </tbody>\n",
       "</table>\n",
       "</div>"
      ],
      "text/plain": [
       "     A   B   C   D\n",
       "1行  10  20  30  30"
      ]
     },
     "execution_count": 21,
     "metadata": {},
     "output_type": "execute_result"
    }
   ],
   "source": [
    "import pandas as pd\n",
    "df = pd.DataFrame([[10, 20,30, 30], [25, 50,65, 80]], index=[\"1行\", \"2行\"], columns=[\"A\", \"B\", \"C\", \"D\"])\n",
    "df.query('A >= 5 and C <= 50')"
   ]
  },
  {
   "cell_type": "code",
   "execution_count": 22,
   "metadata": {},
   "outputs": [
    {
     "name": "stdout",
     "output_type": "stream",
     "text": [
      "    int     str  flt\n",
      "0   1.0  python  5.5\n",
      "1   NaN      ai  4.2\n",
      "2   NaN     NaN -1.2\n",
      "3  32.0     NaN  NaN\n",
      "     int    str    flt\n",
      "0  False  False  False\n",
      "1   True  False  False\n",
      "2   True   True  False\n",
      "3  False   True   True\n",
      "    int     str  flt\n",
      "0   1.0  python  5.5\n",
      "3  32.0     NaN  NaN\n",
      "   int     str  flt\n",
      "0  1.0  python  5.5\n",
      "    int     str  flt\n",
      "0   1.0  python  5.5\n",
      "1   0.0      ai  4.2\n",
      "2   0.0       0 -1.2\n",
      "3  32.0       0  0.0\n"
     ]
    }
   ],
   "source": [
    "import numpy as np\n",
    "import pandas as pd\n",
    "df = pd.DataFrame({\"int\": [1, np.nan, np.nan, 32],\n",
    "                   \"str\": [\"python\", \"ai\", np.nan, np.nan],\n",
    "                   \"flt\": [5.5, 4.2, -1.2, np.nan]})\n",
    "print(df)\n",
    "\n",
    "# df成分に対してNaNの地位をTrueとしたブールの値のデータフレームを返す\n",
    "print(df.isnull()) # notnull()を使うと、TrueとFalseが逆の処理になる。\n",
    "\n",
    "# \"int\"列にNaNがある行の削除\n",
    "print(df.dropna(subset=[\"int\"]))\n",
    "\n",
    "# NaNがある行を全て削除する\n",
    "print(df.dropna())\n",
    "\n",
    "# NaNを全て0に置換する\n",
    "print(df.fillna(0)) # 第一引数にmethod=\"ffill\" 第二引数にlimtit=数字 とすることで指定した数字までは前のデータを使ってNaNを埋めることができます"
   ]
  },
  {
   "cell_type": "code",
   "execution_count": 12,
   "metadata": {},
   "outputs": [
    {
     "name": "stdout",
     "output_type": "stream",
     "text": [
      "   Unnamed: 0 data1  data2 data3\n",
      "0           0     a      0     b\n",
      "1           1     b      1     b\n",
      "2           2     c      2     c\n",
      "3           3     d      3     d\n",
      "4           4     c      4     a\n",
      "5           5     a      5     a\n"
     ]
    }
   ],
   "source": [
    "import pandas as pd\n",
    "from pandas import DataFrame\n",
    "import numpy as np\n",
    "\n",
    "s1 = pd.Series([10, 20, 30, 40])\n",
    "\n",
    "df = pd.DataFrame({\n",
    " 'Name': ['John', 'Mike', 'Bob'],\n",
    " 'State': ['Montana', 'New York', 'Arizona'],   \n",
    "})\n",
    "\n",
    "url = './sns_data.csv'\n",
    "data = pd.read_csv(url)\n",
    "data.columns = [\"user_id\", \"follow\", \"follower\", \"like\"]\n",
    "data.to_csv(\"output.csv\",encoding='utf8')\n",
    "\n",
    "df1 = {\"data1\": [\"a\",\"b\",\"c\",\"d\",\"c\",\"a\"], \"data2\": range(6)}\n",
    "d1 = DataFrame(df1)\n",
    "d1.to_csv(\"kadai.csv\")\n",
    "d2 = pd.read_csv(\"kadai.csv\")\n",
    "d2[\"data3\"] =  [\"b\",\"b\",\"c\",\"d\",\"a\",\"a\"]\n",
    "\n",
    "print(d2)"
   ]
  },
  {
   "cell_type": "code",
   "execution_count": 22,
   "metadata": {},
   "outputs": [
    {
     "name": "stdout",
     "output_type": "stream",
     "text": [
      "['DESCR', 'data', 'images', 'target', 'target_names']\n",
      "[[ 0.  0.  5. ...  0.  0.  0.]\n",
      " [ 0.  0.  0. ... 10.  0.  0.]\n",
      " [ 0.  0.  0. ... 16.  9.  0.]\n",
      " ...\n",
      " [ 0.  0.  1. ...  6.  0.  0.]\n",
      " [ 0.  0.  2. ... 12.  0.  0.]\n",
      " [ 0.  0. 10. ... 12.  1.  0.]]\n",
      "(1797, 64)\n",
      "(1797,)\n",
      "64\n",
      "[ 0.  0.  5. 13.  9.  1.  0.  0.  0.  0. 13. 15. 10. 15.  5.  0.  0.  3.\n",
      " 15.  2.  0. 11.  8.  0.  0.  4. 12.  0.  0.  8.  8.  0.  0.  5.  8.  0.\n",
      "  0.  9.  8.  0.  0.  4. 11.  0.  1. 12.  7.  0.  0.  2. 14.  5. 10. 12.\n",
      "  0.  0.  0.  0.  6. 13. 10.  0.  0.  0.]\n"
     ]
    },
    {
     "data": {
      "image/png": "[encoded data removed]",
      "text/plain": [
       "<Figure size 432x288 with 1 Axes>"
      ]
     },
     "metadata": {
      "needs_background": "light"
     },
     "output_type": "display_data"
    },
    {
     "data": {
      "image/png": "[encoded data removed]",
      "text/plain": [
       "<Figure size 432x288 with 10 Axes>"
      ]
     },
     "metadata": {
      "needs_background": "light"
     },
     "output_type": "display_data"
    },
    {
     "name": "stdout",
     "output_type": "stream",
     "text": [
      "training_num=1198\n",
      "training_num_type:<class 'int'>\n"
     ]
    }
   ],
   "source": [
    "from sklearn import datasets\n",
    "from sklearn import svm\n",
    "from sklearn import metrics\n",
    "import matplotlib.pyplot as plt\n",
    "\n",
    "digits = datasets.load_digits()\n",
    "# digitsデータセットはdir()で調べることができます。\n",
    "print(dir(digits))\n",
    "\n",
    "digits = datasets.load_digits()\n",
    "print(digits.data)         # digitデータセットのdataの値を出力\n",
    "print(digits.data.shape)   # digitデータセットのdataの構造を出力 1967×64の2次元配列 (1797, 64)\n",
    "print(digits.target.shape) \n",
    "\n",
    "print(len((digits.data[0]))) # 64 (64ピクセルというのは、は8×8ピクセルの16階調のグレイスケール画像）\n",
    "print((digits.data[0]))\n",
    "\n",
    "import numpy as np\n",
    "img = np.reshape(digits.data[2], (8,8))\n",
    "plt.imshow(img, cmap=plt.cm.gray_r, interpolation='nearest')\n",
    "plt.axis('off')\n",
    "plt.show()\n",
    "\n",
    "images_and_labels = list(zip(digits.images, digits.target))\n",
    "for index, (image, label) in enumerate(images_and_labels[:10]):\n",
    "    plt.subplot(2, 5, index + 1)\n",
    "    plt.axis('off')\n",
    "    plt.imshow(image, cmap=plt.cm.gray_r, interpolation='nearest')\n",
    "    plt.title('Training: %i' % label)\n",
    "plt.show()\n",
    "\n",
    "num = len(digits.data)\n",
    "training_num = int(num*2/3) # num * 2//3とすればint()でのキャストは不要になります\n",
    "print(\"training_num=\" + str(training_num))\n",
    "print(\"training_num_type:\" + str(type(training_num)))\n"
   ]
  },
  {
   "cell_type": "code",
   "execution_count": 23,
   "metadata": {},
   "outputs": [
    {
     "data": {
      "image/png": "[encoded data removed]",
      "text/plain": [
       "<Figure size 432x288 with 10 Axes>"
      ]
     },
     "metadata": {
      "needs_background": "light"
     },
     "output_type": "display_data"
    },
    {
     "name": "stdout",
     "output_type": "stream",
     "text": [
      "training_num=1198\n",
      "training_num_type:<class 'int'>\n",
      "training_num=1198\n",
      "training_num_type:<class 'int'>\n"
     ]
    },
    {
     "data": {
      "image/png": "[encoded data removed]",
      "text/plain": [
       "<Figure size 432x288 with 10 Axes>"
      ]
     },
     "metadata": {
      "needs_background": "light"
     },
     "output_type": "display_data"
    },
    {
     "data": {
      "text/plain": [
       "['./model.pkl']"
      ]
     },
     "execution_count": 23,
     "metadata": {},
     "output_type": "execute_result"
    }
   ],
   "source": [
    "# sample.ipynb\n",
    "from sklearn import datasets\n",
    "from sklearn import svm\n",
    "from sklearn import metrics\n",
    "from sklearn.externals import joblib\n",
    "import matplotlib.pyplot as plt\n",
    "%matplotlib inline\n",
    "digits = datasets.load_digits()\n",
    "num = len(digits.data)\n",
    "\n",
    "images_and_labels = list(zip(digits.images, digits.target))\n",
    "for index, (image, label) in enumerate(images_and_labels[:10]):\n",
    "    plt.subplot(2, 5, index + 1)\n",
    "    plt.axis('off')\n",
    "    plt.imshow(image, cmap=plt.cm.gray_r, interpolation='nearest')\n",
    "    plt.title('Training: %i' % label)\n",
    "plt.show()\n",
    "\n",
    "training_num = num*2//3\n",
    "print(\"training_num=\" + str(training_num))\n",
    "print(\"training_num_type:\" + str(type(training_num)))\n",
    "\n",
    "training_num = int(num*2/3)\n",
    "print(\"training_num=\" + str(training_num))\n",
    "print(\"training_num_type:\" + str(type(training_num)))\n",
    "\n",
    "data = digits.images.reshape((num, -1))\n",
    "\n",
    "# SVMによるモデルを作成します\n",
    "classifier = svm.SVC(gamma=0.001)\n",
    "\n",
    "X_train = data[:training_num]\n",
    "y_train = digits.target[:training_num]\n",
    "\n",
    "# 頭から２/３のデータをトレーニングデータとしてモデルに適用します\n",
    "classifier.fit(X_train, y_train)\n",
    "\n",
    "# トレーニングデータと、テストデータに分ける\n",
    "expected = digits.target[training_num:]\n",
    "predicted = classifier.predict(data[training_num:])\n",
    "images_and_predictions = list(zip(digits.images[training_num:], predicted))\n",
    "for index, (image, prediction) in enumerate(images_and_predictions[:10]):\n",
    "    plt.subplot(2, 5, index + 1)\n",
    "    plt.axis('off')\n",
    "    plt.imshow(image, cmap=plt.cm.gray_r, interpolation='nearest')\n",
    "    plt.title('Prediction: %i' % prediction)\n",
    "plt.show()\n",
    "\n",
    "# モデルの保存\n",
    "joblib.dump(classifier, \"./model.pkl\")"
   ]
  },
  {
   "cell_type": "code",
   "execution_count": 41,
   "metadata": {},
   "outputs": [
    {
     "name": "stdout",
     "output_type": "stream",
     "text": [
      "[2]\n",
      "0.8947368421052632\n",
      "[2 1 2]\n"
     ]
    },
    {
     "name": "stderr",
     "output_type": "stream",
     "text": [
      "/Users/yosuke.aramaki/anaconda3/lib/python3.7/site-packages/sklearn/svm/base.py:931: ConvergenceWarning: Liblinear failed to converge, increase the number of iterations.\n",
      "  \"the number of iterations.\", ConvergenceWarning)\n",
      "/Users/yosuke.aramaki/anaconda3/lib/python3.7/site-packages/sklearn/svm/base.py:931: ConvergenceWarning: Liblinear failed to converge, increase the number of iterations.\n",
      "  \"the number of iterations.\", ConvergenceWarning)\n"
     ]
    }
   ],
   "source": [
    "from sklearn import datasets\n",
    "from sklearn import svm\n",
    "\n",
    "# Irisの測定データの読み込み\n",
    "iris = datasets.load_iris()\n",
    "clf = svm.LinearSVC()\n",
    "clf.fit(iris.data, iris.target)\n",
    "print(clf.predict([ [5.9, 3.0, 5.2, 1.5]]))\n",
    "\n",
    "\n",
    "from sklearn.model_selection import train_test_split\n",
    "from sklearn.ensemble import RandomForestClassifier\n",
    "from sklearn import svm\n",
    "from sklearn.metrics import accuracy_score\n",
    "\n",
    "\n",
    "# データの読み込み\n",
    "iris = datasets.load_iris()\n",
    "x, y = iris.data, iris.target\n",
    "\n",
    "# トレーニングデータとテストデータに分ける\n",
    "x_train, x_test, y_train, y_test = train_test_split(x, y, random_state=1)\n",
    "\n",
    "# モデルの選択\n",
    "model = svm.LinearSVC()\n",
    "# model = RandomForestClassifier()\n",
    "# 学習\n",
    "model.fit(x_train, y_train)\n",
    "\n",
    "# テストと評価\n",
    "pred = model.predict(x_test)\n",
    "print(accuracy_score(y_test, pred))\n",
    "\n",
    "# 学習済みモデルを使う\n",
    "print(model.predict([[1.4, 3.5, 5.1, 0.2], [6.5, 2.6, 4.4, 1.4], [5.9, 3.0, 5.2, 1.5]]))\n"
   ]
  },
  {
   "cell_type": "code",
   "execution_count": 67,
   "metadata": {},
   "outputs": [
    {
     "data": {
      "image/png": "[encoded data removed]",
      "text/plain": [
       "<Figure size 432x288 with 1 Axes>"
      ]
     },
     "metadata": {
      "needs_background": "light"
     },
     "output_type": "display_data"
    },
    {
     "name": "stdout",
     "output_type": "stream",
     "text": [
      "[[6.3200e-03 1.8000e+01 2.3100e+00 ... 1.5300e+01 3.9690e+02 4.9800e+00]\n",
      " [2.7310e-02 0.0000e+00 7.0700e+00 ... 1.7800e+01 3.9690e+02 9.1400e+00]\n",
      " [2.7290e-02 0.0000e+00 7.0700e+00 ... 1.7800e+01 3.9283e+02 4.0300e+00]\n",
      " ...\n",
      " [6.0760e-02 0.0000e+00 1.1930e+01 ... 2.1000e+01 3.9690e+02 5.6400e+00]\n",
      " [1.0959e-01 0.0000e+00 1.1930e+01 ... 2.1000e+01 3.9345e+02 6.4800e+00]\n",
      " [4.7410e-02 0.0000e+00 1.1930e+01 ... 2.1000e+01 3.9690e+02 7.8800e+00]]\n"
     ]
    }
   ],
   "source": [
    "from sklearn import datasets\n",
    "from sklearn import linear_model\n",
    "import numpy as np\n",
    "import matplotlib.pyplot as plt\n",
    "from pandas import DataFrame\n",
    "%matplotlib inline\n",
    "\n",
    "# データセットの読み込み\n",
    "boston = datasets.load_boston()\n",
    "\n",
    "#  RMを取り出し、 (1, -1) もしくは(-1, 1) を指定することで2次元の横ベクトル及び縦ベクトルを作成 (Scikit-leranのfit()に渡せる形へ変換)\n",
    "x_train = boston.data[:, 5].reshape(-1, 1)\n",
    "y_train = boston.target\n",
    "\n",
    "model = linear_model.LinearRegression()\n",
    "model.fit(x_train, y_train)\n",
    "\n",
    "# テストデータの作成\n",
    "x_test = DataFrame(np.arange(x_train.min(), x_train.max(), 0.1))\n",
    "prices_test = model.predict(x_test)\n",
    "\n",
    "# グラフの描画\n",
    "plt.scatter(x_train, y_train, c=\"b\", alpha=0.5)\n",
    "plt.plot(x_test, prices_test, c=\"r\")\n",
    "plt.title(\"Boston House Prices datase: \")\n",
    "plt.xlabel(\"rooms\")\n",
    "plt.ylabel(\"price $1000's\")\n",
    "plt.show()\n",
    "\n",
    "print( boston.data)"
   ]
  },
  {
   "cell_type": "code",
   "execution_count": null,
   "metadata": {},
   "outputs": [],
   "source": []
  }
 ],
 "metadata": {
  "kernelspec": {
   "display_name": "Python 3",
   "language": "python",
   "name": "python3"
  },
  "language_info": {
   "codemirror_mode": {
    "name": "ipython",
    "version": 3
   },
   "file_extension": ".py",
   "mimetype": "text/x-python",
   "name": "python",
   "nbconvert_exporter": "python",
   "pygments_lexer": "ipython3",
   "version": "3.7.3"
  }
 },
 "nbformat": 4,
 "nbformat_minor": 2
}
